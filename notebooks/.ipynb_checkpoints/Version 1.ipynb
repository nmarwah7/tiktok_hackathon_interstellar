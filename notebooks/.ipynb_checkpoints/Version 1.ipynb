{
 "cells": [
  {
   "cell_type": "code",
   "execution_count": 19,
   "id": "b9df213c-92e8-4b95-9b57-79a1529e13c5",
   "metadata": {},
   "outputs": [
    {
     "name": "stderr",
     "output_type": "stream",
     "text": [
      "Device set to use mps:0\n"
     ]
    },
    {
     "name": "stdout",
     "output_type": "stream",
     "text": [
      "We went to Marmaris with my wife for a holiday. We chose this restaurant as a place for dinner based on the reviews and because we wanted juicy food. When we first went there was a serious queue. You proceed by taking the food you want in the form of an open buffet. Both vegetable dishes and meat dishes were plentiful. There was also dessert for those who wanted it. After you get what you want you pay at the cashier. They don't go through cards they work in cash. There was a lot of food variety. And the food prices were unbelievably cheap. We paid only 84 TL for all the meals here. It included buttermilk and bread. But unfortunately I can't say it's too clean as a place.. \n",
      "\n",
      "Best label: relevant, Score: 0.8229469656944275\n",
      "During my holiday in Marmaris we ate here to fit the food. It's really good that the food is cheap and nice. Eating as much bread as you want is a big plus for those who are not satisfied without bread. It is a place that I can recommend to those who will go to Marmaris. On July 1 there was a small increase but even the price hike is cheap. I leave the photo of the latest prices and breakfast below. there was a serious queue. You proceed by taking the food you want in the form of an open buffet. Both vegetable dishes and meat dishes were plentiful. There was also dessert for those who wanted it. After you get what you want you pay at the cashier. They don't go through cards they work in cash. There was a lot of food variety. And the food prices were unbelievably cheap. We paid only 84 TL for all the meals here. It included buttermilk and bread. But unfortunately I can't say it's too clean as a place.. \n",
      "\n",
      "Best label: relevant, Score: 0.8669019937515259\n",
      "Prices are very affordable. The menu in the photo cost 108 liras. You have to wait 10-15 minutes for food. Staff is annoying. Well it tastes good. Boiled meat was delicious. \n",
      "\n",
      "Best label: relevant, Score: 0.8992630839347839\n"
     ]
    }
   ],
   "source": [
    "import pandas as pd\n",
    "import torch\n",
    "import re\n",
    "import gzip\n",
    "import json\n",
    "\n",
    "path = \"../data/archive/reviews.csv\"\n",
    "from transformers import pipeline\n",
    "kaggle_data = pd.read_csv(path) #data is mostly cleaned -> we might need more data from https://mcauleylab.ucsd.edu/public_datasets/gdrive/googlelocal/\n",
    "\n",
    "#data cleaning - i am keeping urls coz they can be used to find ads\n",
    "kaggle_data = kaggle_data.dropna(subset=['text'])\n",
    "kaggle_data['text'] = kaggle_data['text'].apply(lambda x: re.sub(r'\\s+', ' ', x).strip())\n",
    "#i am keeping punctation and upper/lower casing since this can help us find the rants\n",
    "\n",
    "classifier= pipeline(\"zero-shot-classification\", model=\"facebook/bart-large-mnli\")\n",
    "labels = [\"relevant\", \"advertisement\", \"spam\", \"rant\"] #these can be augmented\n",
    "\n",
    "for index, row in kaggle_data.iterrows():\n",
    "    text = row.text #very basic we need more paramters, can try to compare with rating to find spam\n",
    "    result = classifier(text, candidate_labels=labels)\n",
    "    max_index = result['scores'].index(max(result['scores']))\n",
    "    best_label = result['labels'][max_index]\n",
    "    best_score = result['scores'][max_index]\n",
    "    print(text,'\\n')\n",
    "    print(f\"Best label: {best_label}, Score: {best_score}\")\n",
    "    if(index >1): \n",
    "        break #remove this it's just here because I dont want 1000 rows printed ahaha\n"
   ]
  },
  {
   "cell_type": "code",
   "execution_count": 23,
   "id": "f3e5266f-35f6-44ed-bc9f-1e1540ddc260",
   "metadata": {},
   "outputs": [],
   "source": [
    "path = \"../data/review-Alaska_10.json\"\n",
    "#ok so basically i downloaded from the other website a smaller dataset to train on - we should download their big gzip one\n",
    "#if we want and work on that (but might too big/too slow). JIC here is the function to unzip that data\n",
    "# def parse(path): #this is from their website i recommend we keep it for the larger datasets\n",
    "#   g = gzip.open(path, 'r')\n",
    "#   for l in g:\n",
    "#     yield json.loads(l)\n",
    "\n",
    "\n",
    "data = []\n",
    "with open(path, 'r') as f:\n",
    "    for line in f:\n",
    "        data.append(json.loads(line))\n",
    "\n",
    "\n",
    "uni_data = pd.DataFrame(data)\n",
    "uni_data.head()\n",
    "\n",
    "#data cleaning - i am keeping urls coz they can be used to find ads\n",
    "uni_data = uni_data.dropna(subset=['text'])\n",
    "uni_data['text'] = uni_data['text'].apply(lambda x: re.sub(r'\\s+', ' ', x).strip())\n",
    "#i am keeping punctation and upper/lower casing since this can help us find the rants"
   ]
  },
  {
   "cell_type": "code",
   "execution_count": 21,
   "id": "5f25c014-1735-45b5-adc3-09738a8be108",
   "metadata": {},
   "outputs": [
    {
     "data": {
      "text/plain": [
       "(521515, 8)"
      ]
     },
     "execution_count": 21,
     "metadata": {},
     "output_type": "execute_result"
    }
   ],
   "source": [
    "uni_data.shape"
   ]
  },
  {
   "cell_type": "code",
   "execution_count": 24,
   "id": "7dc02c12-fd27-48cf-8bfc-011b9c2d4327",
   "metadata": {},
   "outputs": [
    {
     "name": "stdout",
     "output_type": "stream",
     "text": [
      "We always stay here when in Valdez for silver salmon fishing. The elderly couple that run it are amazing to talk to, extremely helpful. The campsites are very well maintained. \n",
      "\n",
      "Best label: relevant, Score: 0.8527015447616577\n",
      "Great campground for the price. Nice hot unlimited showers, laundy, and spacious wooded lots. Full hook ups. Late check in available. \n",
      "\n",
      "Best label: relevant, Score: 0.8298973441123962\n",
      "We tent camped here for 2 nights while exploring Valdez. The center of the campground was in the open and there are treed sites around the edges. Don't expect lower foliage separating the sites. Still this is much nicer than the other RV parking lots in town which seemed wide open. There is a bath house with 1 set of coin operated washer/dryer, 2 restrooms (sink toilet) and 2 shower rooms (sink, toilet, shower). The hot water will run out after a few showers. They provide floor mats towels for you to use which is nice, but they lack vent fans to remove moisture so it is prone to mold. Wi-Fi didn't reach our site on the back edge of the campground. Overall we were happy with our stay at this campground and would stay there again. \n",
      "\n",
      "Best label: relevant, Score: 0.8031696677207947\n",
      "This place is just a few miles outside Valdez, which I thought was a bonus. It was surrounded by woods and had some trees throughout the park for shade. The bathrooms were clean and the showers were nice. The dump station was a little underwhelming. Overall, I'm really glad I stayed here and not one of the gravel lots in valdez. \n",
      "\n",
      "Best label: relevant, Score: 0.8503944277763367\n",
      "Probably the nicest and cleanest campground we've been to in Alaska. \n",
      "\n",
      "Best label: relevant, Score: 0.9325502514839172\n",
      "Great, slept like a bear. Clean, convenient, cute, the owners are a hoot. \n",
      "\n",
      "Best label: relevant, Score: 0.9340819120407104\n",
      "It is always a treat to visit this rain or shine. So much to say but I'll sum it up with photos. \n",
      "\n",
      "Best label: relevant, Score: 0.7504159808158875\n"
     ]
    }
   ],
   "source": [
    "for index, row in uni_data.iterrows():\n",
    "    text = row.text #very basic we need more paramters, can try to compare with rating to find spam\n",
    "    result = classifier(text, candidate_labels=labels)\n",
    "    max_index = result['scores'].index(max(result['scores']))\n",
    "    best_label = result['labels'][max_index]\n",
    "    best_score = result['scores'][max_index]\n",
    "    print(text,'\\n')\n",
    "    print(f\"Best label: {best_label}, Score: {best_score}\")\n",
    "    if(index >5): \n",
    "        break #remove this it's just here because I dont want 1000 rows printed ahaha"
   ]
  },
  {
   "cell_type": "code",
   "execution_count": null,
   "id": "e58bacaa-1282-4d5d-a038-cb4ce5f6a565",
   "metadata": {},
   "outputs": [],
   "source": []
  }
 ],
 "metadata": {
  "kernelspec": {
   "display_name": "Python 3 (ipykernel)",
   "language": "python",
   "name": "python3"
  },
  "language_info": {
   "codemirror_mode": {
    "name": "ipython",
    "version": 3
   },
   "file_extension": ".py",
   "mimetype": "text/x-python",
   "name": "python",
   "nbconvert_exporter": "python",
   "pygments_lexer": "ipython3",
   "version": "3.11.13"
  }
 },
 "nbformat": 4,
 "nbformat_minor": 5
}
